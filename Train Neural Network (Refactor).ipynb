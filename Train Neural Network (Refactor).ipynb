{
 "cells": [
  {
   "cell_type": "markdown",
   "metadata": {
    "nbpresent": {
     "id": "ddb34fde-926f-42f6-8bfc-b1b19cb4881d"
    }
   },
   "source": [
    "# High-Level Setup & Imports"
   ]
  },
  {
   "cell_type": "code",
   "execution_count": 1,
   "metadata": {
    "nbpresent": {
     "id": "80e3fe37-bc30-43b7-91c3-474b94a16db6"
    }
   },
   "outputs": [
    {
     "name": "stderr",
     "output_type": "stream",
     "text": [
      "/home/ubuntu/anaconda3/lib/python3.6/site-packages/matplotlib/font_manager.py:279: UserWarning: Matplotlib is building the font cache using fc-list. This may take a moment.\n",
      "  'Matplotlib is building the font cache using fc-list. '\n"
     ]
    }
   ],
   "source": [
    "# General Python Packages\n",
    "import os, time, numbers, math\n",
    "\n",
    "# Torch Packages\n",
    "import torch\n",
    "from torch.utils.data import Dataset, DataLoader\n",
    "from torchvision import transforms, models\n",
    "from torch.optim import lr_scheduler, SGD\n",
    "from torch.autograd import Variable\n",
    "from torch import nn\n",
    "from torch.nn import DataParallel\n",
    "from torch.nn import Module\n",
    "\n",
    "# General Analytics Packages\n",
    "import pandas as pd\n",
    "import numpy as np\n",
    "\n",
    "# Visualization / Image Packages\n",
    "import matplotlib.pyplot as plt\n",
    "from PIL import Image\n",
    "\n",
    "# Randomization Functions\n",
    "from random import random as randuni"
   ]
  },
  {
   "cell_type": "code",
   "execution_count": 2,
   "metadata": {
    "nbpresent": {
     "id": "9b582614-ccd7-4f48-8b66-a49ebe66807f"
    }
   },
   "outputs": [],
   "source": [
    "# Put MatPlotLib in interactive mode\n",
    "plt.ion()\n",
    "\n",
    "# Plot graphics inline in the notebook\n",
    "%matplotlib inline"
   ]
  },
  {
   "cell_type": "markdown",
   "metadata": {},
   "source": [
    "# Define Classes and Functions"
   ]
  },
  {
   "cell_type": "markdown",
   "metadata": {
    "nbpresent": {
     "id": "6fed3f3e-b14a-457d-95d2-c3726ce0fb3e"
    }
   },
   "source": [
    "### Image Data Utility Classes"
   ]
  },
  {
   "cell_type": "code",
   "execution_count": 3,
   "metadata": {
    "nbpresent": {
     "id": "f962c744-4459-4ca1-851c-a19fe8457118"
    }
   },
   "outputs": [],
   "source": [
    "def is_image_file(fname):\n",
    "    \"\"\"Checks if a file is an image.\n",
    "    Args:\n",
    "        fname (string): path to a file\n",
    "    Returns:\n",
    "        bool: True if the filename ends with a known image extension\n",
    "    \"\"\"\n",
    "    return fname.lower().endswith('.png')\n",
    "\n",
    "def create_label_maps(details_df):\n",
    "    \"\"\" Take a descriptive dataframe and extract the unique labels and map to index values\n",
    "    Args:\n",
    "        details_df: Dataframe with the image details\n",
    "    Returns:\n",
    "        label_list: list of unique labels in the dataframe\n",
    "        label_to_index: map from labels to indices\n",
    "    \"\"\"\n",
    "    \"\"\" TODO: Research paper also excludes these labels but need to figure out how to handle\n",
    "              cases that have these as positive findings (completely exclude?)\n",
    "    excluded_labels = ['Edema','Hernia','Emphysema','Fibrosis','No Finding'\n",
    "                      'Pleural_Thickening','Consolidation']\n",
    "    \"\"\"\n",
    "    excluded_labels = ['No Finding']\n",
    "    \n",
    "    label_groups = details_df['Finding Labels'].unique()\n",
    "    unique_labels = set([label for sublist in label_groups.tolist() for label in sublist.split('|')])\n",
    "    \n",
    "    # Drop some label that we do not want to include\n",
    "    unique_labels = [l for l in unique_labels if l not in excluded_labels]\n",
    "\n",
    "    index_to_label = {idx: val for idx, val in enumerate(unique_labels)}\n",
    "    label_to_index = {val: idx for idx, val in index_to_label.items()}\n",
    "\n",
    "    label_list = list(label_to_index.keys())\n",
    "\n",
    "    return label_list, label_to_index\n",
    "\n",
    "def create_image_list(dir):\n",
    "    \"\"\" Create a full list of images available \n",
    "    Args:\n",
    "        dir (string): root directory of images with subdirectories underneath\n",
    "                      that have the .png images within them\n",
    "    Returns:\n",
    "        image_list: list of tuples with (image_name, full_image_path)\n",
    "    \"\"\"\n",
    "    image_list = []\n",
    "    dir = os.path.expanduser(dir)\n",
    "    for subfolder in sorted(os.listdir(dir)):\n",
    "        d = os.path.join(dir, subfolder)\n",
    "        if not os.path.isdir(d):\n",
    "            continue\n",
    "        for subfolder_path, _, fnames in sorted(os.walk(d)):\n",
    "            for fname in sorted(fnames):\n",
    "                if is_image_file(fname):\n",
    "                    path = os.path.join(subfolder_path, fname)\n",
    "                    image_list.append((fname, path))\n",
    "    return image_list\n",
    "\n",
    "def pil_loader(path):\n",
    "    \"\"\" Opens path as file with Pillow (https://github.com/python-pillow/Pillow/issues/835)\n",
    "    Args:\n",
    "        path (string): File path to the image\n",
    "    Returns:\n",
    "        img: Image in RGB format\n",
    "    \"\"\"\n",
    "    f = open(path, 'rb')\n",
    "    return Image.open(f)\n",
    "    #with open(path, 'rb') as f:\n",
    "    #    return Image.open(f)\n",
    "        #with Image.open(f) as img:\n",
    "        #    return img.load()\n",
    "        \n",
    "def imshow(inp, title=None):\n",
    "    \"\"\" Convert tensor array to an image (only use post-dataset transform) \"\"\"\n",
    "    inp = inp[0]\n",
    "    inp = inp.numpy().transpose((1, 2, 0))\n",
    "    mean = np.array([0.485, 0.456, 0.406])\n",
    "    std = np.array([0.229, 0.224, 0.225])\n",
    "    inp = std * inp + mean\n",
    "    inp = np.clip(inp, 0, 1)\n",
    "    plt.imshow(inp)\n",
    "    if title is not None:\n",
    "        plt.title(title)\n",
    "    plt.pause(0.001)  # pause a bit so that plots are updated"
   ]
  },
  {
   "cell_type": "markdown",
   "metadata": {
    "nbpresent": {
     "id": "d5d91972-9d4b-4022-842b-22c823f98fff"
    }
   },
   "source": [
    "### Torch Dataset Definition"
   ]
  },
  {
   "cell_type": "code",
   "execution_count": 4,
   "metadata": {
    "nbpresent": {
     "id": "5bf4e82b-13ca-4ac2-bbb6-3081e820ab4e"
    }
   },
   "outputs": [],
   "source": [
    "class XrayImageSet(Dataset):\n",
    "    \"\"\"\n",
    "    Args:\n",
    "        image_root (string): root directory of the images in form image/subfolder/*.png\n",
    "        csv_file (string): path to the CSV data file\n",
    "        transform (callable, optional): A function/transform that  takes in an PIL image\n",
    "            and returns a transformed version. E.g, ``transforms.RandomCrop``\n",
    "        target_transform (callable, optional): A function/transform that takes in the\n",
    "            target and transforms it.\n",
    "        loader (callable, optional): A function to load an image given its path.\n",
    "     Attributes:\n",
    "        labels (list): list of the possible label names.\n",
    "        label_to_index (dict): look from label name to a label index\n",
    "        imgs (list): List of (filename, image path) tuples\n",
    "    \"\"\"\n",
    "    \n",
    "    def __init__(self, image_root, csv_file, transform=None, target_transform=None, loader = pil_loader):\n",
    "        \"\"\" Create an instance of the Xray Dataset \"\"\"\n",
    "        img_details = pd.read_csv(csv_file)\n",
    "        \n",
    "        labels, label_to_index = create_label_maps(img_details)\n",
    "        imgs = create_image_list(image_root)\n",
    "\n",
    "        self.imgs = imgs\n",
    "        self.image_details = img_details\n",
    "        self.image_root = image_root\n",
    "        self.labels = labels\n",
    "        self.label_to_index = label_to_index\n",
    "        self.transform = transform\n",
    "        self.target_transform = target_transform\n",
    "        self.loader = loader\n",
    "        self.max_label_index = max(label_to_index.values())\n",
    "\n",
    "    def __getitem__(self, index):\n",
    "        \"\"\" Get image,labels pair by index\n",
    "        Args:\n",
    "            index (int): Index\n",
    "        Returns:\n",
    "            tuple: (image, target) where target is class_index of the target class.\n",
    "        \"\"\"\n",
    "        fname, path = self.imgs[index]\n",
    "        target = self.get_one_hot_labels(fname)\n",
    "        img = self.loader(path)\n",
    "        if self.transform is not None:\n",
    "            img = self.transform(img)\n",
    "        if self.target_transform is not None:\n",
    "            target = self.target_transform(target)\n",
    "\n",
    "        return img, target\n",
    "\n",
    "    def __len__(self):\n",
    "        \"\"\" Calculate length of the dataset (number of images) \"\"\"\n",
    "        return len(self.imgs)\n",
    "    \n",
    "    def get_labels(self, fname):\n",
    "        \"\"\" Return the label string for the file \"\"\"\n",
    "        return self.image_details[self.image_details['Image Index'] == fname]['Finding Labels'].values[0]\n",
    "    \n",
    "    def one_hot_labels(self, labels):\n",
    "        \"\"\" Convert the labels string (with each label separated by |) into 1-hot encoding \"\"\"\n",
    "        if labels == None:\n",
    "            return None\n",
    "        \n",
    "        split_label_indices = [self.label_to_index.get(label)\n",
    "                               for label in labels.split('|')\n",
    "                               if label != 'No Finding']\n",
    "        \n",
    "        out = [1 if idx in split_label_indices else 0 for idx in range(self.max_label_index+1)]\n",
    "        # This code UNHOTs the labels:\n",
    "        # out = '|'.join([index_to_label.get(idx) for idx, val in enumerate(one_hot_tuple) if val == 1])\n",
    "        return out\n",
    "\n",
    "    def get_one_hot_labels(self, fname):\n",
    "        \"\"\" Get the 1-hot encoded label array for the provided file \"\"\"\n",
    "        labels = self.get_labels(fname)\n",
    "        one_hot_labels = self.one_hot_labels(labels)\n",
    "        return torch.FloatTensor(one_hot_labels)"
   ]
  },
  {
   "cell_type": "markdown",
   "metadata": {},
   "source": [
    "### Model Training Output Writer"
   ]
  },
  {
   "cell_type": "code",
   "execution_count": 5,
   "metadata": {
    "nbpresent": {
     "id": "166ce9d1-ff17-4047-b9ae-b4903393ad15"
    }
   },
   "outputs": [],
   "source": [
    "class printer_writer:\n",
    "    def __init__(self, output_folder_path):\n",
    "        self.start_time = time.strftime('%Y%m%d-%Hh%Mm%Ss')\n",
    "        \n",
    "        self.outprefix = output_folder_path + '/' + self.start_time\n",
    "        \n",
    "        # Print Output File\n",
    "        self.print_out_path = self.outprefix + '_print.txt'\n",
    "        self.print_out_file = open(self.print_out_path, 'w', 1)\n",
    "        \n",
    "    def printw(self, string):\n",
    "        print(string)\n",
    "        try:\n",
    "            self.print_out_file.write(string + \"\\n\")\n",
    "        except: # Ignore errors\n",
    "            pass\n",
    "        \n",
    "    def save_checkpoint(self, epoch, model, optimizer, scheduler, val_error):\n",
    "        model_out_path = self.outprefix + '_model_' + str(epoch+1) + '.tar'\n",
    "        \n",
    "        torch.save({\n",
    "            'epoch': epoch+1,\n",
    "            'state': model.state_dict(),\n",
    "            'optimizer': optimizer,\n",
    "            'scheduler': scheduler,\n",
    "            'val_error': val_error\n",
    "        }, model_out_path)\n",
    "        \n",
    "    def close(self):\n",
    "        self.print_out_file.close()"
   ]
  },
  {
   "cell_type": "markdown",
   "metadata": {},
   "source": [
    "### Model Training Procedure"
   ]
  },
  {
   "cell_type": "code",
   "execution_count": 6,
   "metadata": {
    "nbpresent": {
     "id": "eb99e6e4-00db-494a-ad27-70005761f49e"
    }
   },
   "outputs": [],
   "source": [
    "def train_model(model, criterion, optimizer, scheduler, num_epochs=25, outfolder = '/user/xrayproj/output/'):\n",
    "    since = time.time()\n",
    "    scribe = printer_writer(outfolder)\n",
    "\n",
    "    for epoch in range(num_epochs):\n",
    "        scribe.printw('Epoch {}/{}'.format(epoch, num_epochs - 1))\n",
    "        scribe.printw('-' * 10)\n",
    "\n",
    "        for phase in ['train', 'val']:\n",
    "            if phase == 'train':\n",
    "                model.train(True)\n",
    "            else:\n",
    "                model.train(False)\n",
    "\n",
    "            running_loss = 0.0\n",
    "            running_corrects = 0\n",
    "            obs_counter = 0\n",
    "\n",
    "            # Iterate over data.\n",
    "            for data in dataloaders[phase]:\n",
    "                # get the inputs\n",
    "                inputs, labels = data\n",
    "\n",
    "                # wrap them in Variable\n",
    "                inputs = Variable(inputs.cuda())\n",
    "                labels = Variable(labels.cuda())\n",
    "\n",
    "                # zero the parameter gradients\n",
    "                optimizer.zero_grad()\n",
    "\n",
    "                # forward\n",
    "                outputs = model(inputs)\n",
    "                loss = criterion(outputs, labels)\n",
    "\n",
    "                # backward + optimize only if in training phase\n",
    "                if phase == 'train':\n",
    "                    loss.backward()\n",
    "                    optimizer.step()\n",
    "\n",
    "                # Store statistics (convert from autograd.Variable to float/int)\n",
    "                loss_val = loss.data[0]\n",
    "                correct_val = torch.sum( ((outputs.sigmoid()>0.5) == (labels>0.5)).long() ).data[0]\n",
    "                \n",
    "                running_loss += loss_val\n",
    "                running_corrects += correct_val\n",
    "                \n",
    "                obs_counter += len(inputs)\n",
    "                \n",
    "                batch_loss = 1.0 * loss_val / len(inputs)\n",
    "                batch_acc = 1.0 * correct_val / len(inputs)\n",
    "                status = ' |~~ {}@{}  Loss: {:.6f} Acc: {:.4f}'.format(\n",
    "                    phase, obs_counter, batch_loss, batch_acc)\n",
    "                scribe.printw(status)\n",
    "\n",
    "            epoch_loss = running_loss / len(dataloaders[phase].dataset)\n",
    "            epoch_acc = running_corrects / len(dataloaders[phase].dataset)\n",
    "            scribe.printw('{}  Loss: {:.6f} Acc: {:.4f}'.format(phase, epoch_loss, epoch_acc))\n",
    "\n",
    "            # Store the model on disk\n",
    "            if phase == 'val':\n",
    "                scheduler.step(epoch_loss)\n",
    "                if isinstance(scheduler, torch.optim.lr_scheduler.ReduceLROnPlateau):\n",
    "                    scribe.save_checkpoint(epoch, model, optimizer, None, epoch_loss)\n",
    "                else:\n",
    "                    scribe.save_checkpoint(epoch, model, optimizer, scheduler, epoch_loss)\n",
    "\n",
    "    time_elapsed = time.time() - since\n",
    "    scribe.printw('Training complete in {:.0f}m {:.0f}s'.format(\n",
    "        time_elapsed // 60, time_elapsed % 60))\n",
    "    scribe.close()\n",
    "\n",
    "    return model"
   ]
  },
  {
   "cell_type": "markdown",
   "metadata": {
    "nbpresent": {
     "id": "5e6eebab-809d-4550-b771-135dbf2b893d"
    }
   },
   "source": [
    "### Customized Binary Cross Entropy Loss Function"
   ]
  },
  {
   "cell_type": "code",
   "execution_count": 7,
   "metadata": {
    "nbpresent": {
     "id": "f66b439c-1f87-4d08-939d-f64d085b846b"
    }
   },
   "outputs": [],
   "source": [
    "class BCEWithLogitsImbalanceWeightedLoss(Module):\n",
    "    def __init__(self, class_weight=None, size_average=True):\n",
    "        super(BCEWithLogitsImbalanceWeightedLoss, self).__init__()\n",
    "        self.size_average = size_average\n",
    "\n",
    "    def forward(self, input, target):\n",
    "        return self.imbalance_weighted_bce_with_logit(input, target, size_average=self.size_average)\n",
    "    \n",
    "    def imbalance_weighted_bce_with_logit(self, input, target, size_average=True):\n",
    "        if not (target.size() == input.size()):\n",
    "            raise ValueError(\"Target size ({}) must be the same as input size ({})\".format(target.size(), input.size()))\n",
    "\n",
    "        max_val = (-input).clamp(min=0)\n",
    "        loss = input - input * target + max_val + ((-max_val).exp() + (-input - max_val).exp()).log()\n",
    "\n",
    "        # Determine |P| and |N|\n",
    "        positive_labels = target.sum()\n",
    "        negative_labels = (1-target).sum()\n",
    "\n",
    "        # Upweight the less common class (very often the 1s)\n",
    "        beta_p = (positive_labels + negative_labels) / positive_labels\n",
    "        beta_n = (positive_labels + negative_labels) / negative_labels\n",
    "\n",
    "        # Adjust the losses accordingly\n",
    "        loss_weight = target * beta_p + (1-target) * beta_n\n",
    "\n",
    "        loss = loss * loss_weight\n",
    "\n",
    "        if size_average:\n",
    "            return loss.mean()\n",
    "        else:\n",
    "            return loss.sum()"
   ]
  },
  {
   "cell_type": "markdown",
   "metadata": {},
   "source": [
    "### Model Evaluation Helper Classes"
   ]
  },
  {
   "cell_type": "code",
   "execution_count": 8,
   "metadata": {},
   "outputs": [],
   "source": [
    "class TotalSumMeter:\n",
    "    def __init__(self):\n",
    "        self.obs_counter = 0.0\n",
    "        self.total_pred = Variable(torch.FloatTensor(torch.zeros(14)), volatile=True)\n",
    "        self.total_act = Variable(torch.FloatTensor(torch.zeros(14)), volatile=True)\n",
    "        \n",
    "    def update(self, preds, actuals):\n",
    "        self.total_act += actuals.sum(0).cpu()\n",
    "        self.total_pred += preds.sum(0).cpu()\n",
    "        self.obs_counter += len(actuals)\n",
    "        \n",
    "    def get_results(self):\n",
    "        return {\n",
    "            'pred': self.total_pred / self.obs_counter,\n",
    "            'act': self.total_act / self.obs_counter\n",
    "            }"
   ]
  },
  {
   "cell_type": "code",
   "execution_count": 9,
   "metadata": {},
   "outputs": [],
   "source": [
    "class MultiClassAUCMeter:\n",
    "    \"\"\" Wrapper on the normal AUCMeter to handle multi-class predictions \"\"\"\n",
    "    def __init__(self, num_class):\n",
    "        self.num_class = num_class\n",
    "        self.meters = []\n",
    "        for i in range(self.num_class):\n",
    "            self.meters.append(AUCMeter())\n",
    "\n",
    "    def add(self, output, target):\n",
    "        for i in range(self.num_class):\n",
    "            self.meters[i].add(output[:,i], target[:,i])\n",
    "        \n",
    "    def value(self):\n",
    "        output = []\n",
    "        for i in range(self.num_class):\n",
    "            output.append(self.meters[i].value())\n",
    "        return output"
   ]
  },
  {
   "cell_type": "code",
   "execution_count": 10,
   "metadata": {},
   "outputs": [],
   "source": [
    "class AUCMeter:\n",
    "    \"\"\"\n",
    "    SOURCE: https://github.com/pytorch/tnt/blob/master/torchnet/meter/aucmeter.py\n",
    "    \n",
    "    The AUCMeter measures the area under the receiver-operating characteristic\n",
    "    (ROC) curve for binary classification problems. The area under the curve (AUC)\n",
    "    can be interpreted as the probability that, given a randomly selected positive\n",
    "    example and a randomly selected negative example, the positive example is\n",
    "    assigned a higher score by the classification model than the negative example.\n",
    "    The AUCMeter is designed to operate on one-dimensional Tensors `output`\n",
    "    and `target`, where (1) the `output` contains model output scores that ought to\n",
    "    be higher when the model is more convinced that the example should be positively\n",
    "    labeled, and smaller when the model believes the example should be negatively\n",
    "    labeled (for instance, the output of a signoid function); and (2) the `target`\n",
    "    contains only values 0 (for negative examples) and 1 (for positive examples).\n",
    "    \"\"\"\n",
    "    def __init__(self):\n",
    "        super(AUCMeter, self).__init__()\n",
    "        self.reset()\n",
    "\n",
    "    def reset(self):\n",
    "        self.scores = torch.DoubleTensor(torch.DoubleStorage()).numpy()\n",
    "        self.targets = torch.LongTensor(torch.LongStorage()).numpy()\n",
    "\n",
    "    def add(self, output, target):\n",
    "        if torch.is_tensor(output):\n",
    "            output = output.cpu().squeeze().numpy()\n",
    "        if torch.is_tensor(target):\n",
    "            target = target.cpu().squeeze().numpy()\n",
    "        elif isinstance(target, numbers.Number):\n",
    "            target = np.asarray([target])\n",
    "        assert np.ndim(output) == 1, \\\n",
    "            'wrong output size (1D expected)'\n",
    "        assert np.ndim(target) == 1, \\\n",
    "            'wrong target size (1D expected)'\n",
    "        assert output.shape[0] == target.shape[0], \\\n",
    "            'number of outputs and targets does not match'\n",
    "        assert np.all(np.add(np.equal(target, 1), np.equal(target, 0))), \\\n",
    "            'targets should be binary (0, 1)'\n",
    "\n",
    "        self.scores = np.append(self.scores, output)\n",
    "        self.targets = np.append(self.targets, target)\n",
    "\n",
    "    def value(self):\n",
    "        # case when number of elements added are 0\n",
    "        if self.scores.shape[0] == 0:\n",
    "            return 0.5\n",
    "\n",
    "        # sorting the arrays\n",
    "        scores, sortind = torch.sort(torch.from_numpy(self.scores), dim=0, descending=True)\n",
    "        scores = scores.numpy()\n",
    "        sortind = sortind.numpy()\n",
    "\n",
    "        # creating the roc curve\n",
    "        tpr = np.zeros(shape=(scores.size + 1), dtype=np.float64)\n",
    "        fpr = np.zeros(shape=(scores.size + 1), dtype=np.float64)\n",
    "\n",
    "        for i in range(1, scores.size + 1):\n",
    "            if self.targets[sortind[i - 1]] == 1:\n",
    "                tpr[i] = tpr[i - 1] + 1\n",
    "                fpr[i] = fpr[i - 1]\n",
    "            else:\n",
    "                tpr[i] = tpr[i - 1]\n",
    "                fpr[i] = fpr[i - 1] + 1\n",
    "\n",
    "        tpr /= (self.targets.sum() * 1.0)\n",
    "        fpr /= ((self.targets - 1.0).sum() * -1.0)\n",
    "\n",
    "        # calculating area under curve using trapezoidal rule\n",
    "        n = tpr.shape[0]\n",
    "        h = fpr[1:n] - fpr[0:n - 1]\n",
    "        sum_h = np.zeros(fpr.shape)\n",
    "        sum_h[0:n - 1] = h\n",
    "        sum_h[1:n] += h\n",
    "        area = (sum_h * tpr).sum() / 2.0\n",
    "\n",
    "        return (area, tpr, fpr)"
   ]
  },
  {
   "cell_type": "code",
   "execution_count": 11,
   "metadata": {},
   "outputs": [],
   "source": [
    "class ModelEvaluator:\n",
    "    def __init__(self, model, dataset, num_classes = 14):\n",
    "        self.model = model\n",
    "        self.dataset = dataset\n",
    "        self.num_classes = num_classes\n",
    "        self.is_run = False\n",
    "        \n",
    "    def score_obs(self, data_row):\n",
    "        inputs, actuals = data_row\n",
    "\n",
    "        inputs = Variable(inputs.cuda(), volatile=True)\n",
    "        actuals = Variable(actuals.cuda(), volatile=True)\n",
    "\n",
    "        outputs = self.model(inputs)\n",
    "        preds = outputs.sigmoid()\n",
    "        \n",
    "        return preds, actuals\n",
    "    \n",
    "    def run(self, force_rerun = False):\n",
    "        if self.is_run and not force_rerun:\n",
    "            print(\"Already evaluated this...\")\n",
    "            return None\n",
    "        \n",
    "        self.model.train(False)\n",
    "    \n",
    "        self.m_total_sums = TotalSumMeter()\n",
    "        self.m_auc = MultiClassAUCMeter(self.num_classes)\n",
    "\n",
    "        for data in self.dataset:\n",
    "            preds, actuals = self.score_obs(data)\n",
    "\n",
    "            self.m_total_sums.update(preds, actuals)\n",
    "            self.m_auc.add(preds.data, actuals.data)"
   ]
  },
  {
   "cell_type": "markdown",
   "metadata": {},
   "source": [
    "### Define model types"
   ]
  },
  {
   "cell_type": "code",
   "execution_count": 15,
   "metadata": {},
   "outputs": [],
   "source": [
    "def ResNetBase(base_size = 18, only_update_fc = True):\n",
    "    \"\"\" ResNet 18 with only final FC layer updatable \"\"\"\n",
    "    m = None\n",
    "    if base_size == 18:\n",
    "        m = models.resnet18(pretrained=True)\n",
    "    elif base_size == 34:\n",
    "        m = models.resnet34(pretrained=True)\n",
    "    elif base_size == 50:\n",
    "        m = models.resnet50(pretrained=True)\n",
    "    elif base_size == 101:\n",
    "        m = models.resnet101(pretrained=True)\n",
    "    elif base_size == 152:\n",
    "        m = models.resnet152(pretrained=True)\n",
    "    \n",
    "    if only_update_fc:\n",
    "        for param in m.parameters():\n",
    "            param.requires_grad = False\n",
    "\n",
    "    m.fc = nn.Linear(m.fc.in_features, len(img_data_train.labels))\n",
    "    \n",
    "    return m"
   ]
  },
  {
   "cell_type": "markdown",
   "metadata": {},
   "source": [
    "#### mean ± std. dev. of 7 runs, 10000000 loops each\n",
    "\n",
    "#### Time for __get_item__\n",
    "```\n",
    "%timeit img_data_train[3] # 30.8 ms ± 544 µs per loop\n",
    "```\n",
    "\n",
    "#### Breakdown for __get_item__\n",
    "```\n",
    "%timeit img_data_train.imgs[8] # 63 ns ± 0.0057 ns per loop\n",
    "%timeit img_data_train.get_one_hot_labels('00011558_012.png') # 8.72 ms ± 9.44 µs per loop\n",
    "%timeit img_data_train.loader('/user/images/images_006/00011558_012.png') # 14.1 ms ± 3.41 µs per loop\n",
    "%timeit img_data_train.transform(img) # 3.17 ms ± 1.32 µs per loop\n",
    "```\n",
    "\n",
    "#### Breakdown for loader() from __get_item__\n",
    "```\n",
    "%timeit open('/user/images/images_006/00011558_012.png', 'rb') # 7.72 µs ± 13.4 ns per loop\n",
    "%timeit Image.open(f) # 37.5 µs ± 2.25 µs per loop\n",
    "%timeit img.convert('RGB') # 498 µs ± 149 ns per loop\n",
    "```"
   ]
  },
  {
   "cell_type": "markdown",
   "metadata": {},
   "source": [
    "# Setup and Begin Training Model"
   ]
  },
  {
   "cell_type": "markdown",
   "metadata": {
    "nbpresent": {
     "id": "b6f705b5-c4e4-4fbd-a517-f0c3b58c4305"
    }
   },
   "source": [
    "### Data Setup"
   ]
  },
  {
   "cell_type": "code",
   "execution_count": 16,
   "metadata": {},
   "outputs": [
    {
     "name": "stdout",
     "output_type": "stream",
     "text": [
      "Number of GPU: 1\n"
     ]
    }
   ],
   "source": [
    "nn_input_size = 224 #1024\n",
    "batch_size = 64\n",
    "pin_mem_setting = True\n",
    "num_gpus = torch.cuda.device_count()\n",
    "num_workers = 10\n",
    "\n",
    "print(\"Number of GPU: {}\".format(num_gpus))"
   ]
  },
  {
   "cell_type": "code",
   "execution_count": 17,
   "metadata": {
    "nbpresent": {
     "id": "6716d746-b7b1-4aff-aec0-2bd91632bf28"
    }
   },
   "outputs": [],
   "source": [
    "img_transforms_train = transforms.Compose(\n",
    "    [#transforms.RandomHorizontalFlip(),\n",
    "     transforms.ToTensor(),\n",
    "     transforms.Normalize(mean=[0.485, 0.456, 0.406], std=[0.229, 0.224, 0.225])\n",
    "    ])"
   ]
  },
  {
   "cell_type": "code",
   "execution_count": 18,
   "metadata": {},
   "outputs": [],
   "source": [
    "img_transforms_nontrain = transforms.Compose(\n",
    "    [transforms.ToTensor(),\n",
    "     transforms.Normalize(mean=[0.485, 0.456, 0.406], std=[0.229, 0.224, 0.225])\n",
    "    ])"
   ]
  },
  {
   "cell_type": "code",
   "execution_count": 19,
   "metadata": {
    "nbpresent": {
     "id": "62d30308-7ecb-40f4-a831-dd0a9274618a"
    }
   },
   "outputs": [],
   "source": [
    "img_data_train = XrayImageSet(image_root = '/user/images_processed/',\n",
    "                              csv_file = '/user/img_details.csv',\n",
    "                              transform = img_transforms_train,\n",
    "                              target_transform = None)\n",
    "\n",
    "img_data_train.imgs = [img for i, img in enumerate(img_data_train.imgs) if i % 10 >= 3]"
   ]
  },
  {
   "cell_type": "code",
   "execution_count": 20,
   "metadata": {
    "nbpresent": {
     "id": "13f86c44-50f2-4809-8ee1-afb0d8ec0b7a"
    }
   },
   "outputs": [],
   "source": [
    "img_data_val   = XrayImageSet(image_root = '/user/images_processed/',\n",
    "                              csv_file = '/user/img_details.csv',\n",
    "                              transform = img_transforms_nontrain,\n",
    "                              target_transform = None)\n",
    "\n",
    "img_data_val.imgs = [img for i, img in enumerate(img_data_val.imgs) if i % 10 in (1,2)]"
   ]
  },
  {
   "cell_type": "code",
   "execution_count": 21,
   "metadata": {},
   "outputs": [],
   "source": [
    "img_data_test  = XrayImageSet(image_root = '/user/images_processed/',\n",
    "                              csv_file = '/user/img_details.csv',\n",
    "                              transform = img_transforms_nontrain,\n",
    "                              target_transform = None)\n",
    "\n",
    "img_data_test.imgs = [img for i, img in enumerate(img_data_test.imgs) if i % 10 == 0]"
   ]
  },
  {
   "cell_type": "code",
   "execution_count": 22,
   "metadata": {},
   "outputs": [],
   "source": [
    "train_set = set(img_data_train.imgs)\n",
    "val_set = set(img_data_val.imgs)\n",
    "test_set = set(img_data_test.imgs)\n",
    "assert len(train_set.intersection(val_set)) == 0\n",
    "assert len(train_set.intersection(test_set)) == 0\n",
    "assert len(val_set.intersection(test_set)) == 0"
   ]
  },
  {
   "cell_type": "code",
   "execution_count": 23,
   "metadata": {
    "nbpresent": {
     "id": "09ab4157-ad5b-4602-8b93-85c86bd5a620"
    }
   },
   "outputs": [
    {
     "name": "stdout",
     "output_type": "stream",
     "text": [
      "Training Set Size: 78484\n",
      "Validation Set Size: 22424\n",
      "Test Set Size: 11212\n"
     ]
    }
   ],
   "source": [
    "print(\"Training Set Size: {}\".format(len(img_data_train)))\n",
    "print(\"Validation Set Size: {}\".format(len(img_data_val)))\n",
    "print(\"Test Set Size: {}\".format(len(img_data_test)))"
   ]
  },
  {
   "cell_type": "code",
   "execution_count": 24,
   "metadata": {
    "nbpresent": {
     "id": "1001fa5d-b820-4da6-9d18-0ee7f4462b90"
    }
   },
   "outputs": [],
   "source": [
    "img_loader_train = DataLoader(img_data_train,\n",
    "                              batch_size = batch_size * num_gpus,\n",
    "                              shuffle = True,\n",
    "                              num_workers = num_workers,\n",
    "                              pin_memory = pin_mem_setting)\n",
    "\n",
    "img_loader_val   = DataLoader(img_data_val,\n",
    "                              batch_size = batch_size * num_gpus,\n",
    "                              shuffle = True,\n",
    "                              num_workers = num_workers,\n",
    "                              pin_memory = pin_mem_setting)"
   ]
  },
  {
   "cell_type": "code",
   "execution_count": 25,
   "metadata": {
    "nbpresent": {
     "id": "0e1d2cb0-4d0f-4ab1-a1cf-cd66a3e298a2"
    }
   },
   "outputs": [],
   "source": [
    "dataloaders = {\n",
    "    'train': img_loader_train,\n",
    "    'val': img_loader_val\n",
    "}"
   ]
  },
  {
   "cell_type": "code",
   "execution_count": 33,
   "metadata": {
    "nbpresent": {
     "id": "91946119-bf67-4871-92af-649559fa9bfd"
    }
   },
   "outputs": [],
   "source": [
    "model_base = ResNetBase(base_size = 18, only_update_fc = True)"
   ]
  },
  {
   "cell_type": "code",
   "execution_count": 34,
   "metadata": {
    "nbpresent": {
     "id": "0a904f1f-73ac-418b-86cf-cdafdf0f67b1"
    }
   },
   "outputs": [],
   "source": [
    "model_ft = DataParallel(model_base).cuda()"
   ]
  },
  {
   "cell_type": "markdown",
   "metadata": {
    "nbpresent": {
     "id": "e6851de2-8645-4547-9f00-414ad8a3811a"
    }
   },
   "source": [
    "### Setup learning rates and procedures"
   ]
  },
  {
   "cell_type": "code",
   "execution_count": 35,
   "metadata": {
    "nbpresent": {
     "id": "1d61f077-84ec-4d2c-bdb0-82b28f8c4ed9"
    }
   },
   "outputs": [],
   "source": [
    "#criterion = BCEWithLogitsImbalanceWeightedLoss()\n",
    "criterion_base = nn.BCEWithLogitsLoss()\n",
    "\n",
    "optimizer_ft = SGD(model_ft.module.fc.parameters(), lr=0.01, momentum=0.9)\n",
    "#optimizer_ft = SGD(model_ft.parameters(), lr=0.01, momentum=0.9)\n",
    "\n",
    "# Decay LR by a factor of 0.1 every 7 epochs\n",
    "#lr_scheduler = lr_scheduler.StepLR(optimizer_ft, step_size=7, gamma=0.1)\n",
    "learning_scheduler = lr_scheduler.ReduceLROnPlateau(optimizer_ft, patience=0)"
   ]
  },
  {
   "cell_type": "code",
   "execution_count": 36,
   "metadata": {},
   "outputs": [],
   "source": [
    "criterion = criterion_base.cuda()"
   ]
  },
  {
   "cell_type": "markdown",
   "metadata": {},
   "source": [
    "### Future code for allowing optimization of the base layer with a lower learning rate\n",
    "\n",
    "```\n",
    "ignored_params = list(map(id, model.fc.parameters()))\n",
    "base_params = filter(lambda p: id(p) not in ignored_params,\n",
    "                     model.parameters())\n",
    "\n",
    "optimizer = torch.optim.SGD([\n",
    "            {'params': base_params},\n",
    "            {'params': model.fc.parameters(), 'lr': opt.lr}\n",
    "        ], lr=opt.lr*0.1, momentum=0.9)\n",
    "```"
   ]
  },
  {
   "cell_type": "markdown",
   "metadata": {
    "nbpresent": {
     "id": "2f9596b5-a2fc-4e0c-984b-4e13b68dcd6d"
    }
   },
   "source": [
    "# Begin Training Network (Normal Cost)"
   ]
  },
  {
   "cell_type": "code",
   "execution_count": null,
   "metadata": {
    "nbpresent": {
     "id": "f1672c30-c299-4265-934b-6af391d9de8c"
    }
   },
   "outputs": [
    {
     "name": "stdout",
     "output_type": "stream",
     "text": [
      "Epoch 0/9\n",
      "----------\n",
      " |~~ train@64  Loss: 0.011634 Acc: 6.9219\n",
      " |~~ train@128  Loss: 0.010655 Acc: 7.9219\n",
      " |~~ train@192  Loss: 0.009005 Acc: 10.2656\n",
      " |~~ train@256  Loss: 0.007177 Acc: 12.5156\n",
      " |~~ train@320  Loss: 0.005410 Acc: 13.4219\n",
      " |~~ train@384  Loss: 0.004334 Acc: 13.3438\n",
      " |~~ train@448  Loss: 0.003355 Acc: 13.4062\n",
      " |~~ train@512  Loss: 0.003276 Acc: 13.2656\n",
      " |~~ train@576  Loss: 0.003737 Acc: 13.0312\n",
      " |~~ train@640  Loss: 0.003266 Acc: 13.1875\n",
      " |~~ train@704  Loss: 0.002882 Acc: 13.2969\n",
      " |~~ train@768  Loss: 0.003613 Acc: 13.1562\n",
      " |~~ train@832  Loss: 0.002868 Acc: 13.3281\n",
      " |~~ train@896  Loss: 0.002253 Acc: 13.5312\n",
      " |~~ train@960  Loss: 0.003345 Acc: 13.3125\n",
      " |~~ train@1024  Loss: 0.002522 Acc: 13.4844\n",
      " |~~ train@1088  Loss: 0.003177 Acc: 13.3438\n",
      " |~~ train@1152  Loss: 0.004283 Acc: 13.0781\n",
      " |~~ train@1216  Loss: 0.002363 Acc: 13.5312\n",
      " |~~ train@1280  Loss: 0.003883 Acc: 13.1406\n",
      " |~~ train@1344  Loss: 0.002413 Acc: 13.5156\n",
      " |~~ train@1408  Loss: 0.002887 Acc: 13.2969\n",
      " |~~ train@1472  Loss: 0.002823 Acc: 13.3750\n",
      " |~~ train@1536  Loss: 0.003398 Acc: 13.2656\n",
      " |~~ train@1600  Loss: 0.003287 Acc: 13.2969\n",
      " |~~ train@1664  Loss: 0.004059 Acc: 13.1562\n",
      " |~~ train@1728  Loss: 0.002964 Acc: 13.2969\n",
      " |~~ train@1792  Loss: 0.002778 Acc: 13.4688\n",
      " |~~ train@1856  Loss: 0.002538 Acc: 13.4062\n",
      " |~~ train@1920  Loss: 0.004051 Acc: 13.1094\n",
      " |~~ train@1984  Loss: 0.003294 Acc: 13.3594\n",
      " |~~ train@2048  Loss: 0.004164 Acc: 13.1250\n",
      " |~~ train@2112  Loss: 0.002905 Acc: 13.4219\n",
      " |~~ train@2176  Loss: 0.003233 Acc: 13.2500\n",
      " |~~ train@2240  Loss: 0.003449 Acc: 13.2969\n",
      " |~~ train@2304  Loss: 0.003540 Acc: 13.1719\n",
      " |~~ train@2368  Loss: 0.003526 Acc: 13.2188\n",
      " |~~ train@2432  Loss: 0.003280 Acc: 13.2344\n",
      " |~~ train@2496  Loss: 0.002921 Acc: 13.3750\n",
      " |~~ train@2560  Loss: 0.002867 Acc: 13.3594\n",
      " |~~ train@2624  Loss: 0.002910 Acc: 13.3281\n",
      " |~~ train@2688  Loss: 0.002805 Acc: 13.3125\n",
      " |~~ train@2752  Loss: 0.002708 Acc: 13.4219\n",
      " |~~ train@2816  Loss: 0.002460 Acc: 13.4531\n",
      " |~~ train@2880  Loss: 0.002989 Acc: 13.2812\n",
      " |~~ train@2944  Loss: 0.003066 Acc: 13.2656\n",
      " |~~ train@3008  Loss: 0.003762 Acc: 13.0938\n",
      " |~~ train@3072  Loss: 0.002549 Acc: 13.4688\n",
      " |~~ train@3136  Loss: 0.002752 Acc: 13.2656\n",
      " |~~ train@3200  Loss: 0.002934 Acc: 13.3281\n",
      " |~~ train@3264  Loss: 0.002143 Acc: 13.5156\n",
      " |~~ train@3328  Loss: 0.003453 Acc: 13.1250\n",
      " |~~ train@3392  Loss: 0.003054 Acc: 13.2500\n",
      " |~~ train@3456  Loss: 0.002865 Acc: 13.2656\n",
      " |~~ train@3520  Loss: 0.002656 Acc: 13.3750\n",
      " |~~ train@3584  Loss: 0.002580 Acc: 13.3750\n",
      " |~~ train@3648  Loss: 0.002554 Acc: 13.4219\n",
      " |~~ train@3712  Loss: 0.003261 Acc: 13.1562\n",
      " |~~ train@3776  Loss: 0.002882 Acc: 13.2188\n",
      " |~~ train@3840  Loss: 0.002706 Acc: 13.3750\n",
      " |~~ train@3904  Loss: 0.003616 Acc: 13.2188\n",
      " |~~ train@3968  Loss: 0.003127 Acc: 13.2500\n",
      " |~~ train@4032  Loss: 0.002191 Acc: 13.4375\n",
      " |~~ train@4096  Loss: 0.002888 Acc: 13.2656\n",
      " |~~ train@4160  Loss: 0.002721 Acc: 13.3438\n",
      " |~~ train@4224  Loss: 0.003409 Acc: 13.1875\n",
      " |~~ train@4288  Loss: 0.003195 Acc: 13.1406\n",
      " |~~ train@4352  Loss: 0.003008 Acc: 13.2188\n",
      " |~~ train@4416  Loss: 0.003304 Acc: 13.1875\n",
      " |~~ train@4480  Loss: 0.002949 Acc: 13.3125\n",
      " |~~ train@4544  Loss: 0.002784 Acc: 13.3281\n",
      " |~~ train@4608  Loss: 0.002665 Acc: 13.4219\n",
      " |~~ train@4672  Loss: 0.003082 Acc: 13.2031\n",
      " |~~ train@4736  Loss: 0.003017 Acc: 13.2031\n",
      " |~~ train@4800  Loss: 0.003979 Acc: 12.9219\n",
      " |~~ train@4864  Loss: 0.002337 Acc: 13.4375\n",
      " |~~ train@4928  Loss: 0.002882 Acc: 13.2656\n",
      " |~~ train@4992  Loss: 0.002789 Acc: 13.2969\n",
      " |~~ train@5056  Loss: 0.002746 Acc: 13.3438\n",
      " |~~ train@5120  Loss: 0.003393 Acc: 13.0938\n",
      " |~~ train@5184  Loss: 0.002679 Acc: 13.3594\n",
      " |~~ train@5248  Loss: 0.002890 Acc: 13.2500\n",
      " |~~ train@5312  Loss: 0.002653 Acc: 13.3594\n",
      " |~~ train@5376  Loss: 0.002844 Acc: 13.2344\n",
      " |~~ train@5440  Loss: 0.003331 Acc: 13.0938\n",
      " |~~ train@5504  Loss: 0.003042 Acc: 13.2344\n",
      " |~~ train@5568  Loss: 0.002467 Acc: 13.4062\n",
      " |~~ train@5632  Loss: 0.002476 Acc: 13.4062\n",
      " |~~ train@5696  Loss: 0.002997 Acc: 13.2500\n",
      " |~~ train@5760  Loss: 0.003097 Acc: 13.2344\n",
      " |~~ train@5824  Loss: 0.003134 Acc: 13.1719\n",
      " |~~ train@5888  Loss: 0.003173 Acc: 13.1406\n",
      " |~~ train@5952  Loss: 0.002710 Acc: 13.3438\n",
      " |~~ train@6016  Loss: 0.002191 Acc: 13.4375\n",
      " |~~ train@6080  Loss: 0.003106 Acc: 13.1562\n",
      " |~~ train@6144  Loss: 0.002955 Acc: 13.2031\n",
      " |~~ train@6208  Loss: 0.003020 Acc: 13.2031\n",
      " |~~ train@6272  Loss: 0.003070 Acc: 13.2500\n",
      " |~~ train@6336  Loss: 0.003111 Acc: 13.2031\n",
      " |~~ train@6400  Loss: 0.003095 Acc: 13.1719\n",
      " |~~ train@6464  Loss: 0.002582 Acc: 13.3281\n",
      " |~~ train@6528  Loss: 0.002369 Acc: 13.4375\n",
      " |~~ train@6592  Loss: 0.003111 Acc: 13.2188\n",
      " |~~ train@6656  Loss: 0.003997 Acc: 12.9219\n",
      " |~~ train@6720  Loss: 0.003281 Acc: 13.1250\n",
      " |~~ train@6784  Loss: 0.002945 Acc: 13.2344\n",
      " |~~ train@6848  Loss: 0.002619 Acc: 13.3750\n",
      " |~~ train@6912  Loss: 0.003106 Acc: 13.2344\n",
      " |~~ train@6976  Loss: 0.002568 Acc: 13.3750\n",
      " |~~ train@7040  Loss: 0.002876 Acc: 13.2031\n",
      " |~~ train@7104  Loss: 0.003564 Acc: 13.0781\n",
      " |~~ train@7168  Loss: 0.002577 Acc: 13.4062\n",
      " |~~ train@7232  Loss: 0.003208 Acc: 13.1094\n",
      " |~~ train@7296  Loss: 0.002786 Acc: 13.3125\n",
      " |~~ train@7360  Loss: 0.003121 Acc: 13.1719\n",
      " |~~ train@7424  Loss: 0.002992 Acc: 13.1406\n",
      " |~~ train@7488  Loss: 0.002913 Acc: 13.2500\n",
      " |~~ train@7552  Loss: 0.002957 Acc: 13.2656\n",
      " |~~ train@7616  Loss: 0.002286 Acc: 13.4844\n",
      " |~~ train@7680  Loss: 0.003655 Acc: 13.0312\n",
      " |~~ train@7744  Loss: 0.002694 Acc: 13.2656\n",
      " |~~ train@7808  Loss: 0.002909 Acc: 13.2969\n",
      " |~~ train@7872  Loss: 0.003246 Acc: 13.1406\n",
      " |~~ train@7936  Loss: 0.002789 Acc: 13.3125\n",
      " |~~ train@8000  Loss: 0.002327 Acc: 13.4375\n",
      " |~~ train@8064  Loss: 0.003008 Acc: 13.2500\n",
      " |~~ train@8128  Loss: 0.002703 Acc: 13.3125\n",
      " |~~ train@8192  Loss: 0.002714 Acc: 13.2969\n",
      " |~~ train@8256  Loss: 0.003113 Acc: 13.2188\n",
      " |~~ train@8320  Loss: 0.003301 Acc: 13.1406\n",
      " |~~ train@8384  Loss: 0.002637 Acc: 13.3125\n",
      " |~~ train@8448  Loss: 0.002545 Acc: 13.3438\n",
      " |~~ train@8512  Loss: 0.002701 Acc: 13.3906\n",
      " |~~ train@8576  Loss: 0.003019 Acc: 13.2344\n",
      " |~~ train@8640  Loss: 0.002994 Acc: 13.2812\n",
      " |~~ train@8704  Loss: 0.002711 Acc: 13.3125\n",
      " |~~ train@8768  Loss: 0.003344 Acc: 13.0938\n",
      " |~~ train@8832  Loss: 0.002480 Acc: 13.3594\n",
      " |~~ train@8896  Loss: 0.002852 Acc: 13.2031\n",
      " |~~ train@8960  Loss: 0.002641 Acc: 13.3594\n",
      " |~~ train@9024  Loss: 0.002600 Acc: 13.3906\n",
      " |~~ train@9088  Loss: 0.002433 Acc: 13.4062\n",
      " |~~ train@9152  Loss: 0.002973 Acc: 13.1875\n",
      " |~~ train@9216  Loss: 0.002514 Acc: 13.4219\n",
      " |~~ train@9280  Loss: 0.003455 Acc: 13.1562\n",
      " |~~ train@9344  Loss: 0.002531 Acc: 13.3906\n",
      " |~~ train@9408  Loss: 0.002395 Acc: 13.4375\n",
      " |~~ train@9472  Loss: 0.003149 Acc: 13.1562\n",
      " |~~ train@9536  Loss: 0.003225 Acc: 13.1562\n",
      " |~~ train@9600  Loss: 0.002634 Acc: 13.3750\n",
      " |~~ train@9664  Loss: 0.002982 Acc: 13.2500\n",
      " |~~ train@9728  Loss: 0.002691 Acc: 13.3125\n",
      " |~~ train@9792  Loss: 0.002452 Acc: 13.3906\n",
      " |~~ train@9856  Loss: 0.003426 Acc: 13.0938\n",
      " |~~ train@9920  Loss: 0.003223 Acc: 13.2031\n",
      " |~~ train@9984  Loss: 0.002623 Acc: 13.3594\n",
      " |~~ train@10048  Loss: 0.003013 Acc: 13.2656\n",
      " |~~ train@10112  Loss: 0.002724 Acc: 13.3438\n",
      " |~~ train@10176  Loss: 0.003138 Acc: 13.1250\n",
      " |~~ train@10240  Loss: 0.003219 Acc: 13.0625\n",
      " |~~ train@10304  Loss: 0.002608 Acc: 13.3750\n",
      " |~~ train@10368  Loss: 0.002860 Acc: 13.2344\n",
      " |~~ train@10432  Loss: 0.002960 Acc: 13.2969\n",
      " |~~ train@10496  Loss: 0.003279 Acc: 13.1562\n",
      " |~~ train@10560  Loss: 0.003739 Acc: 13.0312\n",
      " |~~ train@10624  Loss: 0.002984 Acc: 13.2812\n",
      " |~~ train@10688  Loss: 0.003449 Acc: 13.1406\n",
      " |~~ train@10752  Loss: 0.002302 Acc: 13.4375\n",
      " |~~ train@10816  Loss: 0.002505 Acc: 13.3594\n",
      " |~~ train@10880  Loss: 0.002879 Acc: 13.2969\n",
      " |~~ train@10944  Loss: 0.003157 Acc: 13.1406\n",
      " |~~ train@11008  Loss: 0.002759 Acc: 13.2500\n",
      " |~~ train@11072  Loss: 0.003079 Acc: 13.2031\n",
      " |~~ train@11136  Loss: 0.003557 Acc: 13.0781\n",
      " |~~ train@11200  Loss: 0.002846 Acc: 13.2500\n",
      " |~~ train@11264  Loss: 0.003225 Acc: 13.1719\n",
      " |~~ train@11328  Loss: 0.002928 Acc: 13.1719\n",
      " |~~ train@11392  Loss: 0.002542 Acc: 13.4062\n",
      " |~~ train@11456  Loss: 0.003388 Acc: 13.1719\n",
      " |~~ train@11520  Loss: 0.003254 Acc: 13.0938\n",
      " |~~ train@11584  Loss: 0.002546 Acc: 13.3750\n",
      " |~~ train@11648  Loss: 0.002814 Acc: 13.2656\n",
      " |~~ train@11712  Loss: 0.003262 Acc: 13.1719\n"
     ]
    },
    {
     "name": "stdout",
     "output_type": "stream",
     "text": [
      " |~~ train@11776  Loss: 0.003176 Acc: 13.1719\n",
      " |~~ train@11840  Loss: 0.003065 Acc: 13.1875\n",
      " |~~ train@11904  Loss: 0.002752 Acc: 13.3281\n",
      " |~~ train@11968  Loss: 0.002826 Acc: 13.3438\n",
      " |~~ train@12032  Loss: 0.002832 Acc: 13.2031\n",
      " |~~ train@12096  Loss: 0.002732 Acc: 13.3594\n",
      " |~~ train@12160  Loss: 0.003303 Acc: 13.1250\n",
      " |~~ train@12224  Loss: 0.002940 Acc: 13.2344\n",
      " |~~ train@12288  Loss: 0.002836 Acc: 13.2812\n",
      " |~~ train@12352  Loss: 0.002915 Acc: 13.2188\n",
      " |~~ train@12416  Loss: 0.003329 Acc: 13.0938\n",
      " |~~ train@12480  Loss: 0.002755 Acc: 13.2969\n",
      " |~~ train@12544  Loss: 0.002221 Acc: 13.4531\n",
      " |~~ train@12608  Loss: 0.002919 Acc: 13.2344\n",
      " |~~ train@12672  Loss: 0.003227 Acc: 13.1875\n",
      " |~~ train@12736  Loss: 0.003162 Acc: 13.1094\n",
      " |~~ train@12800  Loss: 0.002673 Acc: 13.3125\n",
      " |~~ train@12864  Loss: 0.002903 Acc: 13.2500\n",
      " |~~ train@12928  Loss: 0.002525 Acc: 13.3594\n",
      " |~~ train@12992  Loss: 0.002238 Acc: 13.4688\n",
      " |~~ train@13056  Loss: 0.003073 Acc: 13.2344\n",
      " |~~ train@13120  Loss: 0.002783 Acc: 13.2188\n",
      " |~~ train@13184  Loss: 0.002146 Acc: 13.5000\n",
      " |~~ train@13248  Loss: 0.002773 Acc: 13.2500\n",
      " |~~ train@13312  Loss: 0.003514 Acc: 13.0469\n",
      " |~~ train@13376  Loss: 0.002916 Acc: 13.2188\n",
      " |~~ train@13440  Loss: 0.002497 Acc: 13.3594\n",
      " |~~ train@13504  Loss: 0.002987 Acc: 13.2188\n",
      " |~~ train@13568  Loss: 0.003347 Acc: 13.0625\n",
      " |~~ train@13632  Loss: 0.002858 Acc: 13.2812\n",
      " |~~ train@13696  Loss: 0.002925 Acc: 13.2656\n",
      " |~~ train@13760  Loss: 0.003678 Acc: 13.0312\n",
      " |~~ train@13824  Loss: 0.003280 Acc: 13.1562\n",
      " |~~ train@13888  Loss: 0.002737 Acc: 13.3594\n",
      " |~~ train@13952  Loss: 0.003055 Acc: 13.2031\n",
      " |~~ train@14016  Loss: 0.002476 Acc: 13.3594\n",
      " |~~ train@14080  Loss: 0.002089 Acc: 13.5469\n",
      " |~~ train@14144  Loss: 0.002523 Acc: 13.2812\n",
      " |~~ train@14208  Loss: 0.002974 Acc: 13.2031\n",
      " |~~ train@14272  Loss: 0.003140 Acc: 13.2500\n",
      " |~~ train@14336  Loss: 0.002704 Acc: 13.3438\n",
      " |~~ train@14400  Loss: 0.002682 Acc: 13.3125\n",
      " |~~ train@14464  Loss: 0.003140 Acc: 13.0938\n",
      " |~~ train@14528  Loss: 0.002320 Acc: 13.4062\n",
      " |~~ train@14592  Loss: 0.002603 Acc: 13.3125\n",
      " |~~ train@14656  Loss: 0.002692 Acc: 13.3438\n",
      " |~~ train@14720  Loss: 0.002767 Acc: 13.3125\n",
      " |~~ train@14784  Loss: 0.003276 Acc: 13.0625\n",
      " |~~ train@14848  Loss: 0.002608 Acc: 13.3438\n",
      " |~~ train@14912  Loss: 0.003132 Acc: 13.1406\n",
      " |~~ train@14976  Loss: 0.002655 Acc: 13.2812\n",
      " |~~ train@15040  Loss: 0.002631 Acc: 13.2656\n",
      " |~~ train@15104  Loss: 0.003371 Acc: 13.1094\n",
      " |~~ train@15168  Loss: 0.002951 Acc: 13.2656\n",
      " |~~ train@15232  Loss: 0.002692 Acc: 13.3594\n",
      " |~~ train@15296  Loss: 0.002594 Acc: 13.4062\n",
      " |~~ train@15360  Loss: 0.002346 Acc: 13.3750\n",
      " |~~ train@15424  Loss: 0.002564 Acc: 13.3281\n",
      " |~~ train@15488  Loss: 0.002635 Acc: 13.2812\n",
      " |~~ train@15552  Loss: 0.002351 Acc: 13.3906\n",
      " |~~ train@15616  Loss: 0.002510 Acc: 13.2969\n",
      " |~~ train@15680  Loss: 0.002901 Acc: 13.2188\n",
      " |~~ train@15744  Loss: 0.002943 Acc: 13.2656\n",
      " |~~ train@15808  Loss: 0.002504 Acc: 13.3906\n",
      " |~~ train@15872  Loss: 0.003236 Acc: 13.1250\n",
      " |~~ train@15936  Loss: 0.002506 Acc: 13.3594\n",
      " |~~ train@16000  Loss: 0.002898 Acc: 13.2344\n",
      " |~~ train@16064  Loss: 0.002632 Acc: 13.3281\n"
     ]
    }
   ],
   "source": [
    "train_model(model_ft,\n",
    "            criterion,\n",
    "            optimizer_ft,\n",
    "            learning_scheduler,\n",
    "            num_epochs=10)"
   ]
  },
  {
   "cell_type": "markdown",
   "metadata": {},
   "source": [
    "### Save model results to S3\n",
    "\n",
    "aws s3 cp ResNet18PlusFlexibleFC_Epoch9.tar s3://bdh-xrayproj-modelparameters/"
   ]
  },
  {
   "cell_type": "markdown",
   "metadata": {},
   "source": [
    "import boto3\n",
    "\n",
    "s3 = boto3.client('s3')\n",
    "s3.list_buckets()\n",
    "\n",
    "S3 Commands: http://docs.aws.amazon.com/cli/latest/userguide/using-s3-commands.html\n",
    "\n",
    "Boto3 QuickStart: http://boto3.readthedocs.io/en/latest/guide/quickstart.html\n",
    "\n",
    "Key Management: https://aws.amazon.com/blogs/security/a-safer-way-to-distribute-aws-credentials-to-ec2/\n",
    "\n",
    "AWS IAM Rules: http://docs.aws.amazon.com/IAM/latest/UserGuide/id_roles_use_switch-role-api.html"
   ]
  },
  {
   "cell_type": "code",
   "execution_count": 131,
   "metadata": {},
   "outputs": [
    {
     "data": {
      "image/png": "[encoded data removed]",
      "text/plain": [
       "<matplotlib.figure.Figure at 0x7fccacaedbe0>"
      ]
     },
     "metadata": {},
     "output_type": "display_data"
    }
   ],
   "source": [
    "plt.figure(figsize=(15,6))\n",
    "plt.subplot(1,2,1)\n",
    "plt.title(\"Training Sums\")\n",
    "#plot_compare_sums(epoch_evals[epoch]['train'])\n",
    "\n",
    "plt.subplot(1,2,2)\n",
    "plt.title(\"Validation Sums\")\n",
    "plot_compare_sums(epoch_evals[epoch]['val'])"
   ]
  },
  {
   "cell_type": "code",
   "execution_count": 54,
   "metadata": {
    "nbpresent": {
     "id": "9235665b-a758-4c35-a922-55466a19bd44"
    }
   },
   "outputs": [
    {
     "name": "stdout",
     "output_type": "stream",
     "text": [
      "STARTING ITERATION...\n",
      "PROCESSING FIRST 750 OBSERVATIONS\n",
      "STARTING ITERATION...\n",
      "PROCESSING FIRST 406 OBSERVATIONS\n"
     ]
    }
   ],
   "source": [
    "out_model_30.train(mode=False)\n",
    "\n",
    "obs_counter = 0\n",
    "total_pred = Variable(torch.FloatTensor(torch.zeros(14)))\n",
    "total_act = Variable(torch.FloatTensor(torch.zeros(14)))\n",
    "\n",
    "conf_a = {}\n",
    "conf_b = {}\n",
    "conf_c = {}\n",
    "conf_d = {}\n",
    "for i in range(1,10):\n",
    "    conf_a[i] = Variable(torch.FloatTensor(torch.zeros(14)))\n",
    "    conf_b[i] = Variable(torch.FloatTensor(torch.zeros(14)))\n",
    "    conf_c[i] = Variable(torch.FloatTensor(torch.zeros(14)))\n",
    "    conf_d[i] = Variable(torch.FloatTensor(torch.zeros(14)))\n",
    "\n",
    "for data in dataloaders['val']:\n",
    "    print(\"STARTING ITERATION...\")\n",
    "    inputs, labels = data\n",
    "    print(\"PROCESSING FIRST {} OBSERVATIONS\".format(len(inputs)))\n",
    "\n",
    "    inputs = Variable(inputs.cuda())\n",
    "    labels = Variable(labels.cuda())\n",
    "\n",
    "    outputs = out_model_30(inputs).sigmoid()\n",
    "    \n",
    "    total_act += labels.sum(0).cpu()\n",
    "    total_pred += outputs.sum(0).cpu()\n",
    "\n",
    "    # Store statistics (convert from autograd.Variable to float/int)\n",
    "    for i in range(1,10):\n",
    "        t = i/10\n",
    "        conf_a[i] += ((outputs.sigmoid()>t) == (labels>0.5)).sum(0).cpu().float()\n",
    "        conf_b[i] += ((outputs.sigmoid()<t) == (labels>0.5)).sum(0).cpu().float()\n",
    "        conf_c[i] += ((outputs.sigmoid()>t) == (labels<0.5)).sum(0).cpu().float()\n",
    "        conf_d[i] += ((outputs.sigmoid()<t) == (labels<0.5)).sum(0).cpu().float()\n",
    "\n",
    "    obs_counter += len(inputs)"
   ]
  },
  {
   "cell_type": "code",
   "execution_count": 67,
   "metadata": {
    "nbpresent": {
     "id": "82758b84-e7ce-48d3-a3e1-f012ab124eea"
    }
   },
   "outputs": [
    {
     "name": "stdout",
     "output_type": "stream",
     "text": [
      "Variable containing:\n",
      "\n",
      "Columns 0 to 5 \n",
      " 0.0000e+00  0.0000e+00  0.0000e+00  0.0000e+00  0.0000e+00  0.0000e+00\n",
      " 0.0000e+00  0.0000e+00  0.0000e+00  0.0000e+00  0.0000e+00  0.0000e+00\n",
      " 0.0000e+00  0.0000e+00  0.0000e+00  0.0000e+00  0.0000e+00  0.0000e+00\n",
      " 0.0000e+00  0.0000e+00  0.0000e+00  0.0000e+00  0.0000e+00  0.0000e+00\n",
      " 0.0000e+00  0.0000e+00  0.0000e+00  0.0000e+00 -2.1475e+09  0.0000e+00\n",
      " 0.0000e+00  0.0000e+00  0.0000e+00  0.0000e+00  0.0000e+00  0.0000e+00\n",
      " 0.0000e+00  0.0000e+00 -2.1475e+09  0.0000e+00 -2.1475e+09  0.0000e+00\n",
      " 6.2634e+06 -1.0000e+00 -2.1475e+09  0.0000e+00 -2.1475e+09  0.0000e+00\n",
      " 0.0000e+00  0.0000e+00  0.0000e+00  0.0000e+00  0.0000e+00  0.0000e+00\n",
      "\n",
      "Columns 6 to 11 \n",
      " 0.0000e+00  0.0000e+00  0.0000e+00  0.0000e+00  0.0000e+00  0.0000e+00\n",
      " 0.0000e+00  0.0000e+00  0.0000e+00  0.0000e+00  0.0000e+00  0.0000e+00\n",
      " 0.0000e+00  0.0000e+00  0.0000e+00  0.0000e+00 -6.5460e+04  0.0000e+00\n",
      " 0.0000e+00  0.0000e+00  0.0000e+00  0.0000e+00  0.0000e+00  0.0000e+00\n",
      "-2.1475e+09  0.0000e+00  0.0000e+00  0.0000e+00  0.0000e+00  0.0000e+00\n",
      " 0.0000e+00  0.0000e+00  0.0000e+00  0.0000e+00  0.0000e+00  0.0000e+00\n",
      "-2.1475e+09  0.0000e+00 -2.1475e+09 -2.1475e+09 -2.1475e+09  0.0000e+00\n",
      " 0.0000e+00  0.0000e+00  0.0000e+00  0.0000e+00  0.0000e+00  0.0000e+00\n",
      " 0.0000e+00  0.0000e+00  0.0000e+00  0.0000e+00  0.0000e+00  0.0000e+00\n",
      "\n",
      "Columns 12 to 13 \n",
      " 0.0000e+00  0.0000e+00\n",
      " 0.0000e+00  0.0000e+00\n",
      " 0.0000e+00  0.0000e+00\n",
      " 0.0000e+00  0.0000e+00\n",
      " 0.0000e+00  0.0000e+00\n",
      " 0.0000e+00  0.0000e+00\n",
      "-2.1475e+09  0.0000e+00\n",
      " 0.0000e+00  0.0000e+00\n",
      " 0.0000e+00  0.0000e+00\n",
      "[torch.IntTensor of size 9x14]\n",
      "\n"
     ]
    }
   ],
   "source": [
    "comparison = Variable(torch.FloatTensor(9, 14))\n",
    "for i in range(9):\n",
    "    comparison[0] = conf_a[1] / obs_counter\n",
    "print(comparison.int())"
   ]
  },
  {
   "cell_type": "code",
   "execution_count": null,
   "metadata": {},
   "outputs": [],
   "source": [
    "def single_model_run(model, dataset):\n",
    "    dataset\n",
    "    for data in self.dataset:\n",
    "        inputs, actuals = data\n",
    "\n",
    "        inputs = Variable(inputs.cuda(), volatile=True)\n",
    "        actuals = Variable(actuals.cuda(), volatile=True)\n",
    "\n",
    "        outputs = self.model(inputs)\n",
    "        preds = outputs.sigmoid()\n",
    "\n",
    "        self.m_total_sums.update(preds, actuals)\n",
    "        self.m_auc.add(preds, actuals)"
   ]
  },
  {
   "cell_type": "code",
   "execution_count": null,
   "metadata": {},
   "outputs": [],
   "source": []
  }
 ],
 "metadata": {
  "kernelspec": {
   "display_name": "Python 3",
   "language": "python",
   "name": "python3"
  },
  "language_info": {
   "codemirror_mode": {
    "name": "ipython",
    "version": 3
   },
   "file_extension": ".py",
   "mimetype": "text/x-python",
   "name": "python",
   "nbconvert_exporter": "python",
   "pygments_lexer": "ipython3",
   "version": "3.6.3"
  }
 },
 "nbformat": 4,
 "nbformat_minor": 2
}
