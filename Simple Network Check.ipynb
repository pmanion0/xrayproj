{
 "cells": [
  {
   "cell_type": "code",
   "execution_count": 1,
   "metadata": {},
   "outputs": [],
   "source": [
    "import torch\n",
    "from torch import nn, optim\n",
    "from torch.autograd import Variable\n",
    "import torch.nn.functional as F"
   ]
  },
  {
   "cell_type": "code",
   "execution_count": 2,
   "metadata": {},
   "outputs": [],
   "source": [
    "# Create the input datasets\n",
    "raw = torch.randn(500, 3)"
   ]
  },
  {
   "cell_type": "code",
   "execution_count": 3,
   "metadata": {},
   "outputs": [],
   "source": [
    "# Adjust x0 variance and mean\n",
    "raw[:,0] /= 1\n",
    "raw[:,0] += 0 #4\n",
    "\n",
    "# Adjust x1 variance and mean\n",
    "raw[:,1] /= 1 #3\n",
    "raw[:,1] += 0 #-1\n",
    "\n",
    "# Up noise of x2 and convert into y\n",
    "raw[:,2] *= 0 #2\n",
    "\n",
    "raw[:,2] = torch.sigmoid( 0.2 * raw[:,0] + 1 * raw[:,1] + raw[:,2] )\n",
    "raw[:,2] = (raw[:,2] > 0.7)"
   ]
  },
  {
   "cell_type": "code",
   "execution_count": 4,
   "metadata": {},
   "outputs": [
    {
     "data": {
      "text/plain": [
       "0.182"
      ]
     },
     "execution_count": 4,
     "metadata": {},
     "output_type": "execute_result"
    }
   ],
   "source": [
    "raw[:,2].mean()"
   ]
  },
  {
   "cell_type": "code",
   "execution_count": 5,
   "metadata": {},
   "outputs": [],
   "source": [
    "class UltraSimpleNet(nn.Module):\n",
    "    def __init__(self):\n",
    "        super(UltraSimpleNet, self).__init__()\n",
    "        self.fc = nn.Linear(2, 2)\n",
    "    \n",
    "    def forward(self, x):\n",
    "        x = self.fc(x)\n",
    "        x = F.log_softmax(x, dim=1)\n",
    "        return x"
   ]
  },
  {
   "cell_type": "code",
   "execution_count": 6,
   "metadata": {},
   "outputs": [],
   "source": [
    "unet = UltraSimpleNet()\n",
    "optimizer = optim.SGD(unet.parameters(), lr=0.01)\n",
    "criterion = nn.NLLLoss()"
   ]
  },
  {
   "cell_type": "code",
   "execution_count": 161,
   "metadata": {},
   "outputs": [],
   "source": [
    "epoch = range(10)\n",
    "pred_sum = 0.0\n",
    "act_sum = 0.0\n",
    "count = 0.0\n",
    "\n",
    "for e in epoch:\n",
    "    for i in range(len(raw)):\n",
    "        row = raw[i:i+1,:]\n",
    "        \n",
    "        out = unet(Variable(row[:,0:2]))\n",
    "        pred = torch.exp(out)\n",
    "        act = Variable(row[0,2:3])\n",
    "        \n",
    "        pred_sum += pred.data[0][1]\n",
    "        act_sum += act.data[0]\n",
    "        count += 1.0\n",
    "        \n",
    "        optimizer.zero_grad()\n",
    "        loss = criterion(out, act.long())\n",
    "        loss.backward()\n",
    "        optimizer.step()"
   ]
  },
  {
   "cell_type": "code",
   "execution_count": 36,
   "metadata": {},
   "outputs": [
    {
     "name": "stdout",
     "output_type": "stream",
     "text": [
      "Pred: Variable containing:\n",
      " 0.3435  0.6565\n",
      "[torch.FloatTensor of size 1x2]\n",
      "\n",
      "Act: \n",
      " 0\n",
      "[torch.FloatTensor of size 1x1]\n",
      "\n"
     ]
    }
   ],
   "source": [
    "indx = 7\n",
    "\n",
    "pred = torch.exp(unet(Variable(raw[indx:indx+1,0:2])))\n",
    "act = raw[indx:indx+1,2:3]\n",
    "\n",
    "print(\"Pred: \" + str(pred))\n",
    "print(\"Act: \" + str(act))"
   ]
  },
  {
   "cell_type": "code",
   "execution_count": 37,
   "metadata": {},
   "outputs": [
    {
     "ename": "NameError",
     "evalue": "name 'pred_sum' is not defined",
     "output_type": "error",
     "traceback": [
      "\u001b[0;31m---------------------------------------------------------------------------\u001b[0m",
      "\u001b[0;31mNameError\u001b[0m                                 Traceback (most recent call last)",
      "\u001b[0;32m<ipython-input-37-6deb8b387901>\u001b[0m in \u001b[0;36m<module>\u001b[0;34m()\u001b[0m\n\u001b[0;32m----> 1\u001b[0;31m \u001b[0mprint\u001b[0m\u001b[0;34m(\u001b[0m\u001b[0;34m\"Pred: \"\u001b[0m \u001b[0;34m+\u001b[0m \u001b[0mstr\u001b[0m\u001b[0;34m(\u001b[0m\u001b[0mpred_sum\u001b[0m \u001b[0;34m/\u001b[0m \u001b[0mcount\u001b[0m\u001b[0;34m)\u001b[0m\u001b[0;34m)\u001b[0m\u001b[0;34m\u001b[0m\u001b[0m\n\u001b[0m\u001b[1;32m      2\u001b[0m \u001b[0mprint\u001b[0m\u001b[0;34m(\u001b[0m\u001b[0;34m\"Act: \"\u001b[0m \u001b[0;34m+\u001b[0m \u001b[0mstr\u001b[0m\u001b[0;34m(\u001b[0m\u001b[0mact_sum\u001b[0m \u001b[0;34m/\u001b[0m \u001b[0mcount\u001b[0m\u001b[0;34m)\u001b[0m\u001b[0;34m)\u001b[0m\u001b[0;34m\u001b[0m\u001b[0m\n",
      "\u001b[0;31mNameError\u001b[0m: name 'pred_sum' is not defined"
     ]
    }
   ],
   "source": [
    "print(\"Pred: \" + str(pred_sum / count))\n",
    "print(\"Act: \" + str(act_sum / count))"
   ]
  },
  {
   "cell_type": "code",
   "execution_count": 48,
   "metadata": {},
   "outputs": [
    {
     "data": {
      "text/plain": [
       "Variable containing:\n",
       " 0.6104\n",
       "[torch.FloatTensor of size 1]"
      ]
     },
     "execution_count": 48,
     "metadata": {},
     "output_type": "execute_result"
    }
   ],
   "source": [
    "criterion2 = nn.BCEWithLogitsLoss()\n",
    "criterion2(torch.log(pred), Variable(torch.FloatTensor([0,1]).unsqueeze(0)))"
   ]
  },
  {
   "cell_type": "code",
   "execution_count": null,
   "metadata": {},
   "outputs": [],
   "source": [
    "class SimpleNet(nn.Module):\n",
    "    def __init__(self):\n",
    "        super(Net, self).__init__()\n",
    "        self.fc1 = nn.Linear(2, 4)\n",
    "        self.fc2 = nn.Linear(4, 1)\n",
    "    \n",
    "    def forward(self, x):\n",
    "        x = self.fc1(x)\n",
    "        x = F.relu(x)\n",
    "        x = self.fc2(x)\n",
    "        x = torch.sigmoid(x)\n",
    "        return x"
   ]
  },
  {
   "cell_type": "code",
   "execution_count": 34,
   "metadata": {},
   "outputs": [
    {
     "name": "stdout",
     "output_type": "stream",
     "text": [
      "x0: \n",
      "Variable containing:\n",
      " 0.1730\n",
      "-1.0538\n",
      "[torch.FloatTensor of size 2x1]\n",
      "\n",
      "x1: \n",
      "Variable containing:\n",
      "-0.5215\n",
      "-1.3523\n",
      "[torch.FloatTensor of size 2x1]\n",
      "\n",
      "y: \n",
      "Variable containing:\n",
      " 0.0687\n",
      "-1.3242\n",
      "[torch.FloatTensor of size 2x1]\n",
      "\n",
      "z: \n",
      "Variable containing:\n",
      " 0.0016\n",
      " 0.5845\n",
      "[torch.FloatTensor of size 2x1]\n",
      "\n",
      "out: \n",
      "Variable containing:\n",
      " 0.2930\n",
      "[torch.FloatTensor of size 1]\n",
      "\n"
     ]
    }
   ],
   "source": [
    "x0 = Variable(torch.randn(2,1), requires_grad = True)\n",
    "x1 = Variable(torch.randn(2,1), requires_grad = True)\n",
    "\n",
    "print(\"x0: \")\n",
    "print(x0)\n",
    "print(\"x1: \")\n",
    "print(x1)\n",
    "\n",
    "y = x0 + 0.2*x1\n",
    "print(\"y: \")\n",
    "print(y)\n",
    "\n",
    "z = y * y / 3\n",
    "print(\"z: \")\n",
    "print(z)\n",
    "\n",
    "out = z.mean()\n",
    "print(\"out: \")\n",
    "print(out)"
   ]
  }
 ],
 "metadata": {
  "kernelspec": {
   "display_name": "Python 3",
   "language": "python",
   "name": "python3"
  },
  "language_info": {
   "codemirror_mode": {
    "name": "ipython",
    "version": 3
   },
   "file_extension": ".py",
   "mimetype": "text/x-python",
   "name": "python",
   "nbconvert_exporter": "python",
   "pygments_lexer": "ipython3",
   "version": "3.6.3"
  }
 },
 "nbformat": 4,
 "nbformat_minor": 2
}
